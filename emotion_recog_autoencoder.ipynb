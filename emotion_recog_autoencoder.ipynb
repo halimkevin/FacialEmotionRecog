{
 "cells": [
  {
   "cell_type": "code",
   "execution_count": 6,
   "id": "twenty-navigation",
   "metadata": {},
   "outputs": [],
   "source": [
    "import keras\n",
    "import os\n",
    "from keras import layers\n",
    "from keras_preprocessing import image\n",
    "from sklearn.preprocessing import OneHotEncoder\n",
    "import tensorflow as tf \n",
    "import numpy as np\n",
    "import matplotlib.pyplot as plt\n",
    "from tensorflow.keras.models import Model, Sequential\n",
    "from tensorflow.keras.layers import BatchNormalization,Conv2D,Dense,Flatten,Dropout,MaxPooling2D,Input,UpSampling2D"
   ]
  },
  {
   "cell_type": "code",
   "execution_count": 7,
   "id": "thorough-armor",
   "metadata": {},
   "outputs": [],
   "source": [
    "train_path='train'\n",
    "test_path='test'\n",
    "train_data=[]\n",
    "train_label=[]\n",
    "test_data=[]\n",
    "test_label=[]\n",
    "mp={\n",
    "    'angry':0,\n",
    "    'fear':1,\n",
    "    'happy':2,\n",
    "    'neutral':3,\n",
    "    'sad':4,\n",
    "    'surprise':5\n",
    "}\n",
    "classes=['angry','fear','happy','neutral','sad','surprise']"
   ]
  },
  {
   "cell_type": "code",
   "execution_count": 8,
   "id": "cutting-sense",
   "metadata": {},
   "outputs": [],
   "source": [
    "for category in classes:\n",
    "    for filename in os.listdir(train_path+'/'+category):\n",
    "        img=image.load_img(train_path+'/'+category+'/'+filename,target_size=(48,48),color_mode='grayscale')\n",
    "        train_data.append(image.img_to_array(img))\n",
    "        train_label.append(mp[category])\n",
    "train_data=np.array(train_data)\n",
    "train_data=train_data.reshape(-1,48,48,1)\n",
    "train_label=np.array(train_label)\n",
    "train_label=train_label.reshape(-1,1)\n",
    "ohe=OneHotEncoder(sparse=False).fit(train_label)\n",
    "train_label=ohe.transform(train_label)\n",
    "train_data=train_data.astype('float32')/255."
   ]
  },
  {
   "cell_type": "code",
   "execution_count": 9,
   "id": "noble-genealogy",
   "metadata": {},
   "outputs": [],
   "source": [
    "for category in classes:\n",
    "    for filename in os.listdir(test_path+'/'+category):\n",
    "        img=image.load_img(test_path+'/'+category+'/'+filename,target_size=(48,48),color_mode='grayscale')\n",
    "        test_data.append(image.img_to_array(img))\n",
    "        test_label.append(mp[category])\n",
    "test_data=np.array(test_data)\n",
    "test_data=test_data.reshape(-1,48,48,1)\n",
    "test_label=np.array(test_label)\n",
    "test_label=test_label.reshape(-1,1)\n",
    "test_label=ohe.transform(test_label)\n",
    "test_data=test_data.astype('float32')/255."
   ]
  },
  {
   "cell_type": "code",
   "execution_count": null,
   "id": "approved-exception",
   "metadata": {
    "scrolled": true
   },
   "outputs": [],
   "source": [
    "inp=Input(shape=(48,48,1))\n",
    "# autoencoder\n",
    "# encoder\n",
    "\n",
    "x=Conv2D(64,(3,3),activation='relu',padding='same')(inp)\n",
    "x=BatchNormalization()(x)\n",
    "x=Conv2D(64,(3,3),activation='relu',padding='same')(x)\n",
    "x=BatchNormalization()(x)\n",
    "x=MaxPooling2D((2,2))(x)\n",
    "x=Dropout(0.4)(x)\n",
    "\n",
    "x=Conv2D(128,(3,3),activation='relu',padding='same')(x)\n",
    "x=BatchNormalization()(x)\n",
    "x=Conv2D(128,(3,3),activation='relu',padding='same')(x)\n",
    "x=BatchNormalization()(x)\n",
    "x=Conv2D(128,(3,3),activation='relu',padding='same')(x)\n",
    "x=BatchNormalization()(x)\n",
    "x=MaxPooling2D((2,2))(x)\n",
    "x=Dropout(0.4)(x)\n",
    "\n",
    "x=Conv2D(256,(3,3),activation='relu',padding='same')(x)\n",
    "x=BatchNormalization()(x)\n",
    "x=Conv2D(256,(3,3),activation='relu',padding='same')(x)\n",
    "x=BatchNormalization()(x)\n",
    "x=Conv2D(256,(3,3),activation='relu',padding='same')(x)\n",
    "x=BatchNormalization()(x)\n",
    "x=Conv2D(256,(3,3),activation='relu',padding='same')(x)\n",
    "x=BatchNormalization()(x)\n",
    "x=MaxPooling2D((2,2))(x)\n",
    "x=Dropout(0.4)(x)\n",
    "\n",
    "x=Conv2D(256,(3,3),activation='relu',padding='same')(x)\n",
    "x=BatchNormalization()(x)\n",
    "x=Conv2D(256,(3,3),activation='relu',padding='same')(x)\n",
    "x=BatchNormalization()(x)\n",
    "x=Conv2D(256,(3,3),activation='relu',padding='same')(x)\n",
    "x=BatchNormalization()(x)\n",
    "x=Conv2D(256,(3,3),activation='relu',padding='same')(x)\n",
    "x=BatchNormalization()(x)\n",
    "x=MaxPooling2D((2,2))(x)\n",
    "x=Dropout(0.4)(x)\n",
    "\n",
    "x=Conv2D(512,(3,3),activation='relu',padding='same')(x)\n",
    "x=BatchNormalization()(x)\n",
    "x=Conv2D(512,(3,3),activation='relu',padding='same')(x)\n",
    "x=BatchNormalization()(x)\n",
    "x=Conv2D(512,(3,3),activation='relu',padding='same')(x)\n",
    "x=BatchNormalization()(x)\n",
    "x=Conv2D(512,(3,3),activation='relu',padding='same')(x)\n",
    "x=BatchNormalization()(x)\n",
    "encoder=MaxPooling2D((2,2))(x)\n",
    "\n",
    "#decoder\n",
    "x=UpSampling2D((3,3))(encoder)\n",
    "x=Conv2D(256,(3,3),activation='relu',padding='same')(x)\n",
    "x=BatchNormalization()(x)\n",
    "x=Conv2D(256,(3,3),activation='relu',padding='same')(x)\n",
    "x=BatchNormalization()(x)\n",
    "x=Conv2D(256,(3,3),activation='relu',padding='same')(x)\n",
    "x=BatchNormalization()(x)\n",
    "# x=UpSampling2D((3,3))(x)\n",
    "x=Dropout(0.3)(x)\n",
    "\n",
    "x=UpSampling2D((2,2))(x)\n",
    "x=Conv2D(256,(3,3),activation='relu',padding='same')(x)\n",
    "x=BatchNormalization()(x)\n",
    "x=Conv2D(256,(3,3),activation='relu',padding='same')(x)\n",
    "x=BatchNormalization()(x)\n",
    "x=Conv2D(256,(3,3),activation='relu',padding='same')(x)\n",
    "x=BatchNormalization()(x)\n",
    "x=Dropout(0.3)(x)\n",
    "\n",
    "x=UpSampling2D((2,2))(x)\n",
    "x=Conv2D(128,(3,3),activation='relu',padding='same')(x)\n",
    "x=BatchNormalization()(x)\n",
    "x=Conv2D(128,(3,3),activation='relu',padding='same')(x)\n",
    "x=BatchNormalization()(x)\n",
    "x=UpSampling2D((2,2))(x)\n",
    "x=Conv2D(128,(3,3),activation='relu',padding='same')(x)\n",
    "x=BatchNormalization()(x)\n",
    "x=Dropout(0.3)(x)\n",
    "\n",
    "x=UpSampling2D((2,2))(x)\n",
    "x=Conv2D(64,(3,3),activation='relu',padding='same')(x)\n",
    "x=BatchNormalization()(x)\n",
    "x=Conv2D(64,(3,3),activation='relu',padding='same')(x)\n",
    "x=BatchNormalization()(x)\n",
    "x=Dropout(0.3)(x)\n",
    "\n",
    "decoder=Conv2D(1,(3,3),activation='sigmoid',padding='same')(x)\n",
    "\n",
    "model=Model(inp,decoder)\n",
    "\n",
    "model.summary()"
   ]
  },
  {
   "cell_type": "code",
   "execution_count": null,
   "id": "instrumental-communication",
   "metadata": {
    "scrolled": true
   },
   "outputs": [],
   "source": [
    "model.compile(optimizer='adam',loss='mse')\n",
    "hist = model.fit(train_data,train_data,validation_data=(test_data,test_data),shuffle=True,epochs=10)"
   ]
  },
  {
   "cell_type": "code",
   "execution_count": null,
   "id": "annual-clothing",
   "metadata": {},
   "outputs": [],
   "source": [
    "plt.plot(hist.history['loss'])\n",
    "plt.plot(hist.history['val_loss'])\n",
    "plt.legend(['train', 'val'],loc='upper right')"
   ]
  },
  {
   "cell_type": "code",
   "execution_count": null,
   "id": "everyday-arlington",
   "metadata": {},
   "outputs": [],
   "source": [
    "model.save('autoencoderv2.h5')"
   ]
  },
  {
   "cell_type": "code",
   "execution_count": 10,
   "id": "automotive-wrist",
   "metadata": {},
   "outputs": [
    {
     "name": "stdout",
     "output_type": "stream",
     "text": [
      "221/221 [==============================] - 16s 33ms/step - loss: 0.0203\n"
     ]
    },
    {
     "data": {
      "text/plain": [
       "0.020321890711784363"
      ]
     },
     "execution_count": 10,
     "metadata": {},
     "output_type": "execute_result"
    }
   ],
   "source": [
    "model=keras.models.load_model('autoencoderv2.h5')#load autoencoder model\n",
    "model.evaluate(test_data,test_data)"
   ]
  },
  {
   "cell_type": "code",
   "execution_count": 6,
   "id": "modern-lambda",
   "metadata": {},
   "outputs": [],
   "source": [
    "inp=Input(shape=(48,48,1))\n",
    "# encoder\n",
    "x=Conv2D(64,(3,3),activation='relu',padding='same')(inp)\n",
    "x=BatchNormalization()(x)\n",
    "x=Conv2D(64,(3,3),activation='relu',padding='same')(x)\n",
    "x=BatchNormalization()(x)\n",
    "x=MaxPooling2D((2,2))(x)\n",
    "x=Dropout(0.4)(x)\n",
    "\n",
    "x=Conv2D(128,(3,3),activation='relu',padding='same')(x)\n",
    "x=BatchNormalization()(x)\n",
    "x=Conv2D(128,(3,3),activation='relu',padding='same')(x)\n",
    "x=BatchNormalization()(x)\n",
    "x=Conv2D(128,(3,3),activation='relu',padding='same')(x)\n",
    "x=BatchNormalization()(x)\n",
    "x=MaxPooling2D((2,2))(x)\n",
    "x=Dropout(0.4)(x)\n",
    "\n",
    "x=Conv2D(256,(3,3),activation='relu',padding='same')(x)\n",
    "x=BatchNormalization()(x)\n",
    "x=Conv2D(256,(3,3),activation='relu',padding='same')(x)\n",
    "x=BatchNormalization()(x)\n",
    "x=Conv2D(256,(3,3),activation='relu',padding='same')(x)\n",
    "x=BatchNormalization()(x)\n",
    "x=Conv2D(256,(3,3),activation='relu',padding='same')(x)\n",
    "x=BatchNormalization()(x)\n",
    "x=MaxPooling2D((2,2))(x)\n",
    "x=Dropout(0.4)(x)\n",
    "\n",
    "x=Conv2D(256,(3,3),activation='relu',padding='same')(x)\n",
    "x=BatchNormalization()(x)\n",
    "x=Conv2D(256,(3,3),activation='relu',padding='same')(x)\n",
    "x=BatchNormalization()(x)\n",
    "x=Conv2D(256,(3,3),activation='relu',padding='same')(x)\n",
    "x=BatchNormalization()(x)\n",
    "x=Conv2D(256,(3,3),activation='relu',padding='same')(x)\n",
    "x=BatchNormalization()(x)\n",
    "x=MaxPooling2D((2,2))(x)\n",
    "x=Dropout(0.4)(x)\n",
    "\n",
    "x=Conv2D(512,(3,3),activation='relu',padding='same')(x)\n",
    "x=BatchNormalization()(x)\n",
    "x=Conv2D(512,(3,3),activation='relu',padding='same')(x)\n",
    "x=BatchNormalization()(x)\n",
    "x=Conv2D(512,(3,3),activation='relu',padding='same')(x)\n",
    "x=BatchNormalization()(x)\n",
    "x=Conv2D(512,(3,3),activation='relu',padding='same')(x)\n",
    "x=BatchNormalization()(x)\n",
    "encoder=MaxPooling2D((2,2))(x)"
   ]
  },
  {
   "cell_type": "code",
   "execution_count": 19,
   "id": "immune-upset",
   "metadata": {
    "scrolled": true
   },
   "outputs": [
    {
     "name": "stdout",
     "output_type": "stream",
     "text": [
      "Model: \"model_1\"\n",
      "_________________________________________________________________\n",
      "Layer (type)                 Output Shape              Param #   \n",
      "=================================================================\n",
      "input_1 (InputLayer)         [(None, 48, 48, 1)]       0         \n",
      "_________________________________________________________________\n",
      "conv2d (Conv2D)              (None, 48, 48, 64)        640       \n",
      "_________________________________________________________________\n",
      "batch_normalization (BatchNo (None, 48, 48, 64)        256       \n",
      "_________________________________________________________________\n",
      "conv2d_1 (Conv2D)            (None, 48, 48, 64)        36928     \n",
      "_________________________________________________________________\n",
      "batch_normalization_1 (Batch (None, 48, 48, 64)        256       \n",
      "_________________________________________________________________\n",
      "max_pooling2d (MaxPooling2D) (None, 24, 24, 64)        0         \n",
      "_________________________________________________________________\n",
      "dropout (Dropout)            (None, 24, 24, 64)        0         \n",
      "_________________________________________________________________\n",
      "conv2d_2 (Conv2D)            (None, 24, 24, 128)       73856     \n",
      "_________________________________________________________________\n",
      "batch_normalization_2 (Batch (None, 24, 24, 128)       512       \n",
      "_________________________________________________________________\n",
      "conv2d_3 (Conv2D)            (None, 24, 24, 128)       147584    \n",
      "_________________________________________________________________\n",
      "batch_normalization_3 (Batch (None, 24, 24, 128)       512       \n",
      "_________________________________________________________________\n",
      "conv2d_4 (Conv2D)            (None, 24, 24, 128)       147584    \n",
      "_________________________________________________________________\n",
      "batch_normalization_4 (Batch (None, 24, 24, 128)       512       \n",
      "_________________________________________________________________\n",
      "max_pooling2d_1 (MaxPooling2 (None, 12, 12, 128)       0         \n",
      "_________________________________________________________________\n",
      "dropout_1 (Dropout)          (None, 12, 12, 128)       0         \n",
      "_________________________________________________________________\n",
      "conv2d_5 (Conv2D)            (None, 12, 12, 256)       295168    \n",
      "_________________________________________________________________\n",
      "batch_normalization_5 (Batch (None, 12, 12, 256)       1024      \n",
      "_________________________________________________________________\n",
      "conv2d_6 (Conv2D)            (None, 12, 12, 256)       590080    \n",
      "_________________________________________________________________\n",
      "batch_normalization_6 (Batch (None, 12, 12, 256)       1024      \n",
      "_________________________________________________________________\n",
      "conv2d_7 (Conv2D)            (None, 12, 12, 256)       590080    \n",
      "_________________________________________________________________\n",
      "batch_normalization_7 (Batch (None, 12, 12, 256)       1024      \n",
      "_________________________________________________________________\n",
      "conv2d_8 (Conv2D)            (None, 12, 12, 256)       590080    \n",
      "_________________________________________________________________\n",
      "batch_normalization_8 (Batch (None, 12, 12, 256)       1024      \n",
      "_________________________________________________________________\n",
      "max_pooling2d_2 (MaxPooling2 (None, 6, 6, 256)         0         \n",
      "_________________________________________________________________\n",
      "dropout_2 (Dropout)          (None, 6, 6, 256)         0         \n",
      "_________________________________________________________________\n",
      "conv2d_9 (Conv2D)            (None, 6, 6, 256)         590080    \n",
      "_________________________________________________________________\n",
      "batch_normalization_9 (Batch (None, 6, 6, 256)         1024      \n",
      "_________________________________________________________________\n",
      "conv2d_10 (Conv2D)           (None, 6, 6, 256)         590080    \n",
      "_________________________________________________________________\n",
      "batch_normalization_10 (Batc (None, 6, 6, 256)         1024      \n",
      "_________________________________________________________________\n",
      "conv2d_11 (Conv2D)           (None, 6, 6, 256)         590080    \n",
      "_________________________________________________________________\n",
      "batch_normalization_11 (Batc (None, 6, 6, 256)         1024      \n",
      "_________________________________________________________________\n",
      "conv2d_12 (Conv2D)           (None, 6, 6, 256)         590080    \n",
      "_________________________________________________________________\n",
      "batch_normalization_12 (Batc (None, 6, 6, 256)         1024      \n",
      "_________________________________________________________________\n",
      "max_pooling2d_3 (MaxPooling2 (None, 3, 3, 256)         0         \n",
      "_________________________________________________________________\n",
      "dropout_3 (Dropout)          (None, 3, 3, 256)         0         \n",
      "_________________________________________________________________\n",
      "conv2d_13 (Conv2D)           (None, 3, 3, 512)         1180160   \n",
      "_________________________________________________________________\n",
      "batch_normalization_13 (Batc (None, 3, 3, 512)         2048      \n",
      "_________________________________________________________________\n",
      "conv2d_14 (Conv2D)           (None, 3, 3, 512)         2359808   \n",
      "_________________________________________________________________\n",
      "batch_normalization_14 (Batc (None, 3, 3, 512)         2048      \n",
      "_________________________________________________________________\n",
      "conv2d_15 (Conv2D)           (None, 3, 3, 512)         2359808   \n",
      "_________________________________________________________________\n",
      "batch_normalization_15 (Batc (None, 3, 3, 512)         2048      \n",
      "_________________________________________________________________\n",
      "conv2d_16 (Conv2D)           (None, 3, 3, 512)         2359808   \n",
      "_________________________________________________________________\n",
      "batch_normalization_16 (Batc (None, 3, 3, 512)         2048      \n",
      "_________________________________________________________________\n",
      "max_pooling2d_4 (MaxPooling2 (None, 1, 1, 512)         0         \n",
      "_________________________________________________________________\n",
      "flatten_1 (Flatten)          (None, 512)               0         \n",
      "_________________________________________________________________\n",
      "dropout_5 (Dropout)          (None, 512)               0         \n",
      "_________________________________________________________________\n",
      "dense_1 (Dense)              (None, 6)                 3078      \n",
      "=================================================================\n",
      "Total params: 13,113,414\n",
      "Trainable params: 13,104,198\n",
      "Non-trainable params: 9,216\n",
      "_________________________________________________________________\n"
     ]
    }
   ],
   "source": [
    "x=Flatten()(encoder)\n",
    "x=Dropout(0.5)(x)\n",
    "x=Dense(6,activation='softmax')(x)\n",
    "fullmodel=Model(inp,x)\n",
    "fullmodel.summary()\n",
    "for l1,l2 in zip(fullmodel.layers[:44],model.layers[0:44]):\n",
    "    l1.set_weights(l2.get_weights())"
   ]
  },
  {
   "cell_type": "code",
   "execution_count": 20,
   "id": "interpreted-meter",
   "metadata": {},
   "outputs": [],
   "source": [
    "es=tf.keras.callbacks.EarlyStopping(monitor='val_accuracy',mode='auto',verbose=1,patience=5)\n",
    "chk= tf.keras.callbacks.ModelCheckpoint(\n",
    "    filepath='adam_res.h5',\n",
    "    save_weights_only=False,\n",
    "    monitor='val_accuracy',\n",
    "    mode='max',\n",
    "    save_best_only=True)"
   ]
  },
  {
   "cell_type": "code",
   "execution_count": 21,
   "id": "silver-contact",
   "metadata": {
    "scrolled": true
   },
   "outputs": [],
   "source": [
    "fullmodel.compile(optimizer='Adam',loss='categorical_crossentropy',metrics=['accuracy'])"
   ]
  },
  {
   "cell_type": "code",
   "execution_count": 22,
   "id": "instant-departure",
   "metadata": {
    "scrolled": true
   },
   "outputs": [
    {
     "name": "stdout",
     "output_type": "stream",
     "text": [
      "Epoch 1/100\n",
      "884/884 [==============================] - 71s 78ms/step - loss: 1.9309 - accuracy: 0.3000 - val_loss: 1.3410 - val_accuracy: 0.4753\n",
      "Epoch 2/100\n",
      "884/884 [==============================] - 68s 77ms/step - loss: 1.3243 - accuracy: 0.4763 - val_loss: 1.2394 - val_accuracy: 0.5149\n",
      "Epoch 3/100\n",
      "884/884 [==============================] - 68s 77ms/step - loss: 1.2124 - accuracy: 0.5273 - val_loss: 1.1966 - val_accuracy: 0.5288\n",
      "Epoch 4/100\n",
      "884/884 [==============================] - 65s 74ms/step - loss: 1.1444 - accuracy: 0.5598 - val_loss: 1.1348 - val_accuracy: 0.5654A: 18s - loss: 1.1450 - accura - ETA: 17 - ETA: 14s - loss: 1.1452 - accuracy: 0. - ETA: 14s - loss: 1.1452 - ETA: 10s - loss: 1.1451  - ETA: 9s - loss: 1.1451 - accuracy: 0.55 - ETA: 9s - loss: 1.1451 - accuracy: 0.55 - ETA: 9s - loss: 1.1451 - accura - ETA: 8s - ETA: 7s - loss: 1.1 - ETA: 0s - loss:\n",
      "Epoch 5/100\n",
      "884/884 [==============================] - 63s 71ms/step - loss: 1.0709 - accuracy: 0.5924 - val_loss: 1.1440 - val_accuracy: 0.5676\n",
      "Epoch 6/100\n",
      "884/884 [==============================] - 63s 71ms/step - loss: 1.0134 - accuracy: 0.6164 - val_loss: 1.0791 - val_accuracy: 0.5793\n",
      "Epoch 7/100\n",
      "884/884 [==============================] - 63s 71ms/step - loss: 0.9721 - accuracy: 0.6325 - val_loss: 1.0626 - val_accuracy: 0.5937cy:  - ETA: 0s - loss: 0.972\n",
      "Epoch 8/100\n",
      "884/884 [==============================] - 63s 71ms/step - loss: 0.9206 - accuracy: 0.6561 - val_loss: 1.0426 - val_accuracy: 0.6066\n",
      "Epoch 9/100\n",
      "884/884 [==============================] - 63s 71ms/step - loss: 0.8809 - accuracy: 0.6710 - val_loss: 1.0623 - val_accuracy: 0.5983 0.8731  - ETA: 24s - loss: 0.8734 - accuracy: 0 - ETA: 24s - loss: 0.\n",
      "Epoch 10/100\n",
      "884/884 [==============================] - 63s 71ms/step - loss: 0.8268 - accuracy: 0.6964 - val_loss: 1.0292 - val_accuracy: 0.6253\n",
      "Epoch 11/100\n",
      "884/884 [==============================] - 63s 71ms/step - loss: 0.7862 - accuracy: 0.7112 - val_loss: 1.0101 - val_accuracy: 0.63106s - ETA: 2s - loss: 0.7857 - accuracy: 0. - ETA: 2s - - ETA: 1s - loss: - ETA: 0s - loss: 0.7861 - ac\n",
      "Epoch 12/100\n",
      "884/884 [==============================] - 63s 71ms/step - loss: 0.7298 - accuracy: 0.7300 - val_loss: 1.0266 - val_accuracy: 0.6359\n",
      "Epoch 13/100\n",
      "884/884 [==============================] - 64s 72ms/step - loss: 0.6831 - accuracy: 0.7564 - val_loss: 1.0360 - val_accuracy: 0.6267\n",
      "Epoch 14/100\n",
      "884/884 [==============================] - 68s 76ms/step - loss: 0.6325 - accuracy: 0.7702 - val_loss: 1.0662 - val_accuracy: 0.6349\n",
      "Epoch 15/100\n",
      "884/884 [==============================] - 68s 77ms/step - loss: 0.5747 - accuracy: 0.7942 - val_loss: 1.1079 - val_accuracy: 0.6327\n",
      "Epoch 16/100\n",
      "884/884 [==============================] - 69s 78ms/step - loss: 0.5224 - accuracy: 0.8132 - val_loss: 1.1656 - val_accuracy: 0.6393\n",
      "Epoch 17/100\n",
      "884/884 [==============================] - 69s 78ms/step - loss: 0.4695 - accuracy: 0.8331 - val_loss: 1.1728 - val_accuracy: 0.6301\n",
      "Epoch 18/100\n",
      "884/884 [==============================] - 69s 78ms/step - loss: 0.4287 - accuracy: 0.8497 - val_loss: 1.2097 - val_accuracy: 0.6424\n",
      "Epoch 19/100\n",
      "884/884 [==============================] - 69s 78ms/step - loss: 0.3821 - accuracy: 0.8652 - val_loss: 1.2117 - val_accuracy: 0.6403\n",
      "Epoch 20/100\n",
      "884/884 [==============================] - 69s 78ms/step - loss: 0.3561 - accuracy: 0.8774 - val_loss: 1.2921 - val_accuracy: 0.6348\n",
      "Epoch 21/100\n",
      "884/884 [==============================] - 68s 77ms/step - loss: 0.3231 - accuracy: 0.8854 - val_loss: 1.3162 - val_accuracy: 0.6419\n",
      "Epoch 22/100\n",
      "884/884 [==============================] - 68s 76ms/step - loss: 0.2889 - accuracy: 0.9031 - val_loss: 1.3056 - val_accuracy: 0.6481\n",
      "Epoch 23/100\n",
      "884/884 [==============================] - 68s 77ms/step - loss: 0.2642 - accuracy: 0.9094 - val_loss: 1.3784 - val_accuracy: 0.6356\n",
      "Epoch 24/100\n",
      "884/884 [==============================] - 68s 77ms/step - loss: 0.2492 - accuracy: 0.9147 - val_loss: 1.3921 - val_accuracy: 0.6329\n",
      "Epoch 25/100\n",
      "884/884 [==============================] - 64s 72ms/step - loss: 0.2820 - accuracy: 0.9038 - val_loss: 1.4122 - val_accuracy: 0.6345\n",
      "Epoch 26/100\n",
      "884/884 [==============================] - 63s 72ms/step - loss: 0.2083 - accuracy: 0.9276 - val_loss: 1.5681 - val_accuracy: 0.6336\n",
      "Epoch 27/100\n",
      "884/884 [==============================] - 63s 71ms/step - loss: 0.1865 - accuracy: 0.9362 - val_loss: 1.6189 - val_accuracy: 0.6283\n",
      "Epoch 00027: early stopping\n"
     ]
    }
   ],
   "source": [
    "fullhist = fullmodel.fit(train_data,train_label,validation_data=(test_data,test_label),shuffle=True,epochs=100,callbacks=[es,chk])"
   ]
  },
  {
   "cell_type": "code",
   "execution_count": 23,
   "id": "drawn-doctrine",
   "metadata": {},
   "outputs": [],
   "source": [
    "fullmodel=keras.models.load_model('adam_res.h5')"
   ]
  },
  {
   "cell_type": "code",
   "execution_count": 24,
   "id": "understood-clinic",
   "metadata": {},
   "outputs": [
    {
     "name": "stdout",
     "output_type": "stream",
     "text": [
      "221/221 [==============================] - 5s 19ms/step - loss: 1.3056 - accuracy: 0.6481\n"
     ]
    },
    {
     "data": {
      "text/plain": [
       "[1.3056224584579468, 0.6480826139450073]"
      ]
     },
     "execution_count": 24,
     "metadata": {},
     "output_type": "execute_result"
    }
   ],
   "source": [
    "fullmodel.evaluate(test_data,test_label)"
   ]
  },
  {
   "cell_type": "code",
   "execution_count": 25,
   "id": "efficient-modem",
   "metadata": {},
   "outputs": [
    {
     "data": {
      "text/plain": [
       "<matplotlib.legend.Legend at 0x1861f791488>"
      ]
     },
     "execution_count": 25,
     "metadata": {},
     "output_type": "execute_result"
    },
    {
     "data": {
      "image/png": "[encoded data removed]",
      "text/plain": [
       "<Figure size 432x288 with 1 Axes>"
      ]
     },
     "metadata": {
      "needs_background": "light"
     },
     "output_type": "display_data"
    }
   ],
   "source": [
    "plt.plot(fullhist.history['accuracy'])\n",
    "plt.plot(fullhist.history['val_accuracy'])\n",
    "plt.legend(['train', 'val'],loc='upper left')"
   ]
  },
  {
   "cell_type": "code",
   "execution_count": null,
   "id": "funny-grammar",
   "metadata": {},
   "outputs": [],
   "source": [
    "fullmodel.save('emotion_recog_best.h5')"
   ]
  },
  {
   "cell_type": "code",
   "execution_count": null,
   "id": "civic-vietnam",
   "metadata": {},
   "outputs": [],
   "source": [
    "plt.plot(fullmodel.history().history['accuracy'])"
   ]
  },
  {
   "cell_type": "code",
   "execution_count": 26,
   "id": "helpful-registrar",
   "metadata": {},
   "outputs": [
    {
     "data": {
      "text/plain": [
       "<AxesSubplot:>"
      ]
     },
     "execution_count": 26,
     "metadata": {},
     "output_type": "execute_result"
    },
    {
     "data": {
      "image/png": "[encoded data removed]",
      "text/plain": [
       "<Figure size 720x504 with 2 Axes>"
      ]
     },
     "metadata": {
      "needs_background": "light"
     },
     "output_type": "display_data"
    }
   ],
   "source": [
    "import seaborn as sn\n",
    "from sklearn.metrics import confusion_matrix\n",
    "import pandas as pd\n",
    "\n",
    "y_pred=fullmodel.predict(test_data)\n",
    "y_true=test_label\n",
    "\n",
    "y_true=ohe.inverse_transform(y_true)\n",
    "y_pred=ohe.inverse_transform(y_pred)\n",
    "\n",
    "cf_matrix=confusion_matrix(y_true=y_true, y_pred=y_pred)\n",
    "\n",
    "df_cm = pd.DataFrame(cf_matrix, index = [i for i in classes],\n",
    "                  columns = [i for i in classes])\n",
    "\n",
    "plt.figure(figsize = (10,7))\n",
    "sn.heatmap(df_cm, annot=True, fmt='d')"
   ]
  }
 ],
 "metadata": {
  "kernelspec": {
   "display_name": "tfgpu",
   "language": "python",
   "name": "tfgpu"
  },
  "language_info": {
   "codemirror_mode": {
    "name": "ipython",
    "version": 3
   },
   "file_extension": ".py",
   "mimetype": "text/x-python",
   "name": "python",
   "nbconvert_exporter": "python",
   "pygments_lexer": "ipython3",
   "version": "3.7.9"
  }
 },
 "nbformat": 4,
 "nbformat_minor": 5
}
